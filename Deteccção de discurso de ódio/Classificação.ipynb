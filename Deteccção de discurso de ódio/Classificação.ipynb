{
 "cells": [
  {
   "cell_type": "code",
   "execution_count": null,
   "id": "b97837bf",
   "metadata": {},
   "outputs": [
    {
     "ename": "ModuleNotFoundError",
     "evalue": "No module named 'detoxify'",
     "output_type": "error",
     "traceback": [
      "\u001b[1;31m---------------------------------------------------------------------------\u001b[0m",
      "\u001b[1;31mModuleNotFoundError\u001b[0m                       Traceback (most recent call last)",
      "Cell \u001b[1;32mIn[1], line 2\u001b[0m\n\u001b[0;32m      1\u001b[0m \u001b[38;5;28;01mimport\u001b[39;00m \u001b[38;5;21;01mpandas\u001b[39;00m \u001b[38;5;28;01mas\u001b[39;00m \u001b[38;5;21;01mpd\u001b[39;00m\n\u001b[1;32m----> 2\u001b[0m \u001b[38;5;28;01mfrom\u001b[39;00m \u001b[38;5;21;01mdetoxify\u001b[39;00m \u001b[38;5;28;01mimport\u001b[39;00m Detoxify\n\u001b[0;32m      3\u001b[0m \u001b[38;5;28;01mfrom\u001b[39;00m \u001b[38;5;21;01mtqdm\u001b[39;00m\u001b[38;5;21;01m.\u001b[39;00m\u001b[38;5;21;01mauto\u001b[39;00m \u001b[38;5;28;01mimport\u001b[39;00m tqdm\n\u001b[0;32m      4\u001b[0m \u001b[38;5;28;01mfrom\u001b[39;00m \u001b[38;5;21;01mIPython\u001b[39;00m\u001b[38;5;21;01m.\u001b[39;00m\u001b[38;5;21;01mdisplay\u001b[39;00m \u001b[38;5;28;01mimport\u001b[39;00m clear_output\n",
      "\u001b[1;31mModuleNotFoundError\u001b[0m: No module named 'detoxify'"
     ]
    }
   ],
   "source": [
    "import pandas as pd\n",
    "!pip install detoxify\n",
    "from detoxify import Detoxify\n",
    "from tqdm.auto import tqdm\n",
    "from IPython.display import clear_output\n",
    "import os"
   ]
  },
  {
   "cell_type": "code",
   "execution_count": 24,
   "id": "43ba9a0f",
   "metadata": {},
   "outputs": [],
   "source": [
    "arquivoDeLeitura = \"comments_NegoBorel.json\"\n",
    "arquivoDeSaida   = \"comentarios_NegoBorel_Classificados.json\""
   ]
  },
  {
   "cell_type": "code",
   "execution_count": 25,
   "id": "a540018d",
   "metadata": {},
   "outputs": [],
   "source": [
    "# Lendo o arquivo JSON com os comentários\n",
    "dfComentarios = pd.read_json(arquivoDeLeitura, encoding=\"utf-8\")"
   ]
  },
  {
   "cell_type": "code",
   "execution_count": 26,
   "id": "0ef5d28e",
   "metadata": {},
   "outputs": [
    {
     "name": "stdout",
     "output_type": "stream",
     "text": [
      "(144695, 5)\n"
     ]
    },
    {
     "data": {
      "text/html": [
       "<div>\n",
       "<style scoped>\n",
       "    .dataframe tbody tr th:only-of-type {\n",
       "        vertical-align: middle;\n",
       "    }\n",
       "\n",
       "    .dataframe tbody tr th {\n",
       "        vertical-align: top;\n",
       "    }\n",
       "\n",
       "    .dataframe thead th {\n",
       "        text-align: right;\n",
       "    }\n",
       "</style>\n",
       "<table border=\"1\" class=\"dataframe\">\n",
       "  <thead>\n",
       "    <tr style=\"text-align: right;\">\n",
       "      <th></th>\n",
       "      <th>id</th>\n",
       "      <th>author</th>\n",
       "      <th>message</th>\n",
       "      <th>publishedAt</th>\n",
       "      <th>likeCount</th>\n",
       "    </tr>\n",
       "  </thead>\n",
       "  <tbody>\n",
       "    <tr>\n",
       "      <th>0</th>\n",
       "      <td>Ugw4HzjaXSliZRj9zPd4AaABAg</td>\n",
       "      <td>@danielesena7780</td>\n",
       "      <td>Musica muito boa</td>\n",
       "      <td>2025-05-07T00:10:29Z</td>\n",
       "      <td>0</td>\n",
       "    </tr>\n",
       "    <tr>\n",
       "      <th>1</th>\n",
       "      <td>UgyLFdfcGra2nxstkrt4AaABAg</td>\n",
       "      <td>@antoniomarcos2253</td>\n",
       "      <td>5/5/2025</td>\n",
       "      <td>2025-05-05T18:28:51Z</td>\n",
       "      <td>0</td>\n",
       "    </tr>\n",
       "    <tr>\n",
       "      <th>2</th>\n",
       "      <td>UgyB6fA2bStIyrlSzfZ4AaABAg</td>\n",
       "      <td>@GuadalupeMartinez-d1l</td>\n",
       "      <td>😂😂😂😂😂😂😂😂😂😂😂😂😂😂😂😂😂😂😂😂😂😂😂😂</td>\n",
       "      <td>2025-05-03T15:40:59Z</td>\n",
       "      <td>0</td>\n",
       "    </tr>\n",
       "    <tr>\n",
       "      <th>3</th>\n",
       "      <td>UgxSyUq63h_Qd6J-zs54AaABAg</td>\n",
       "      <td>@AdrianV.k</td>\n",
       "      <td>Alguém escutando essa em 2025</td>\n",
       "      <td>2025-05-03T03:25:31Z</td>\n",
       "      <td>1</td>\n",
       "    </tr>\n",
       "    <tr>\n",
       "      <th>4</th>\n",
       "      <td>UgykjfHouNj5_e_LI7Z4AaABAg</td>\n",
       "      <td>@djmegatronn</td>\n",
       "      <td>nunca entendi a treta desse clipe kkk</td>\n",
       "      <td>2025-05-02T16:26:25Z</td>\n",
       "      <td>0</td>\n",
       "    </tr>\n",
       "  </tbody>\n",
       "</table>\n",
       "</div>"
      ],
      "text/plain": [
       "                           id                  author  \\\n",
       "0  Ugw4HzjaXSliZRj9zPd4AaABAg        @danielesena7780   \n",
       "1  UgyLFdfcGra2nxstkrt4AaABAg      @antoniomarcos2253   \n",
       "2  UgyB6fA2bStIyrlSzfZ4AaABAg  @GuadalupeMartinez-d1l   \n",
       "3  UgxSyUq63h_Qd6J-zs54AaABAg              @AdrianV.k   \n",
       "4  UgykjfHouNj5_e_LI7Z4AaABAg            @djmegatronn   \n",
       "\n",
       "                                 message           publishedAt  likeCount  \n",
       "0                       Musica muito boa  2025-05-07T00:10:29Z          0  \n",
       "1                               5/5/2025  2025-05-05T18:28:51Z          0  \n",
       "2               😂😂😂😂😂😂😂😂😂😂😂😂😂😂😂😂😂😂😂😂😂😂😂😂  2025-05-03T15:40:59Z          0  \n",
       "3          Alguém escutando essa em 2025  2025-05-03T03:25:31Z          1  \n",
       "4  nunca entendi a treta desse clipe kkk  2025-05-02T16:26:25Z          0  "
      ]
     },
     "execution_count": 26,
     "metadata": {},
     "output_type": "execute_result"
    }
   ],
   "source": [
    "print(dfComentarios.shape)\n",
    "dfComentarios.head(5)"
   ]
  },
  {
   "cell_type": "code",
   "execution_count": 27,
   "id": "e786ed62",
   "metadata": {},
   "outputs": [],
   "source": [
    "# Carregar modelo Detoxify (na CPU)\n",
    "modelo = Detoxify(\"multilingual\", device=\"cpu\")"
   ]
  },
  {
   "cell_type": "code",
   "execution_count": 29,
   "id": "5090f8d9",
   "metadata": {},
   "outputs": [],
   "source": [
    "# Função auxiliar para limpar a saída do notebook/terminal\n",
    "def limpar_terminal():\n",
    "    # Para Jupyter/IPython, descomente:\n",
    "    clear_output(wait=True)  \n",
    "    # Para terminal puro, descomente:\n",
    "    # os.system(\"cls\" if os.name == \"nt\" else \"clear\")"
   ]
  },
  {
   "cell_type": "code",
   "execution_count": 30,
   "id": "ec7712c1",
   "metadata": {},
   "outputs": [
    {
     "name": "stderr",
     "output_type": "stream",
     "text": [
      "Classificando: 100%|██████████| 144695/144695 [1:26:45<00:00, 27.80it/s]\n"
     ]
    }
   ],
   "source": [
    "# Classificar mensagens e exibir progresso\n",
    "tqdm.pandas(desc=\"Classificando\")  # habilita barra na aplicação\n",
    "\n",
    "def classificar(texto):\n",
    "    \"\"\"Retorna dict com 7 rótulos convertidos p/ float nativo.\"\"\"\n",
    "    predicoes = modelo.predict(texto)\n",
    "    return {rotulo: float(valor) for rotulo, valor in predicoes.items()}\n",
    "\n",
    "# Aplica função à coluna 'message', com progresso\n",
    "seriePredicoes = dfComentarios[\"message\"].progress_apply(classificar)\n",
    "\n",
    "# Converte para DataFrame e concatena aos comentários originais\n",
    "dfPredicoes = pd.json_normalize(seriePredicoes)\n",
    "dfFinal = pd.concat([dfComentarios, dfPredicoes], axis=1)"
   ]
  },
  {
   "cell_type": "markdown",
   "id": "adede5d3",
   "metadata": {},
   "source": [
    "> Classificação do Oscar (xxx comentários) em um Ryzen 5 5600 com 16GB RAM: 00:14:17\n",
    "\n",
    "> Classificação do Monark (3798 comentários) em um Ryzen 5 5600 com 16GB RAM: 00:02:49\n",
    "\n",
    "> Classificação do NegoBorel (144695 comentários) em um Ryzen 5 5600 com 16GB RAM: 01:26:"
   ]
  },
  {
   "cell_type": "code",
   "execution_count": 31,
   "id": "8dcf77a1",
   "metadata": {},
   "outputs": [],
   "source": [
    "# Salvar resultado em JSON \n",
    "dfFinal.to_json(arquivoDeSaida, orient=\"records\", force_ascii=False, indent=2)"
   ]
  }
 ],
 "metadata": {
  "kernelspec": {
   "display_name": "huggingface",
   "language": "python",
   "name": "python3"
  },
  "language_info": {
   "codemirror_mode": {
    "name": "ipython",
    "version": 3
   },
   "file_extension": ".py",
   "mimetype": "text/x-python",
   "name": "python",
   "nbconvert_exporter": "python",
   "pygments_lexer": "ipython3",
   "version": "3.9.18"
  }
 },
 "nbformat": 4,
 "nbformat_minor": 5
}
